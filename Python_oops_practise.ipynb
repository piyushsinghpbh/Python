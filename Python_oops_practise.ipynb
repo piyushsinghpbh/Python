{
 "cells": [
  {
   "cell_type": "markdown",
   "metadata": {},
   "source": [
    "# Module: Classes and Objects Assignments\n",
    "## Lesson: Creating and Working with Classes and Objects\n",
    "### Assignment 1: Basic Class and Object Creation\n",
    "\n",
    "Create a class named `Car` with attributes `make`, `model`, and `year`. Create an object of the class and print its attributes.\n",
    "\n",
    "### Assignment 2: Methods in Class\n",
    "\n",
    "Add a method named `start_engine` to the `Car` class that prints a message when the engine starts. Create an object of the class and call the method.\n",
    "\n",
    "### Assignment 3: Class with Constructor\n",
    "\n",
    "Create a class named `Student` with attributes `name` and `age`. Use a constructor to initialize these attributes. Create an object of the class and print its attributes.\n",
    "\n",
    "### Assignment 4: Class with Private Attributes\n",
    "\n",
    "Create a class named `BankAccount` with private attributes `account_number` and `balance`. Add methods to deposit and withdraw money, and to check the balance. Create an object of the class and perform some operations.\n",
    "\n",
    "### Assignment 5: Class Inheritance\n",
    "\n",
    "Create a base class named `Person` with attributes `name` and `age`. Create a derived class named `Employee` that inherits from `Person` and adds an attribute `employee_id`. Create an object of the derived class and print its attributes.\n",
    "\n",
    "### Assignment 6: Method Overriding\n",
    "\n",
    "In the `Employee` class, override the `__str__` method to return a string representation of the object. Create an object of the class and print it.\n",
    "\n",
    "### Assignment 7: Class Composition\n",
    "\n",
    "Create a class named `Address` with attributes `street`, `city`, and `zipcode`. Create a class named `Person` that has an `Address` object as an attribute. Create an object of the `Person` class and print its address.\n",
    "\n",
    "### Assignment 8: Class with Class Variables\n",
    "\n",
    "Create a class named `Counter` with a class variable `count`. Each time an object is created, increment the count. Add a method to get the current count. Create multiple objects and print the count.\n",
    "\n",
    "### Assignment 9: Static Methods\n",
    "\n",
    "Create a class named `MathOperations` with a static method to calculate the square root of a number. Call the static method without creating an object.\n",
    "\n",
    "### Assignment 10: Class with Properties\n",
    "\n",
    "Create a class named `Rectangle` with private attributes `length` and `width`. Use properties to get and set these attributes. Create an object of the class and test the properties.\n",
    "\n",
    "### Assignment 11: Abstract Base Class\n",
    "\n",
    "Create an abstract base class named `Shape` with an abstract method `area`. Create derived classes `Circle` and `Square` that implement the `area` method. Create objects of the derived classes and call the `area` method.\n",
    "\n",
    "### Assignment 12: Operator Overloading\n",
    "\n",
    "Create a class named `Vector` with attributes `x` and `y`. Overload the `+` operator to add two `Vector` objects. Create objects of the class and test the operator overloading.\n",
    "\n",
    "### Assignment 13: Class with Custom Exception\n",
    "\n",
    "Create a custom exception named `InsufficientBalanceError`. In the `BankAccount` class, raise this exception when a withdrawal amount is greater than the balance. Handle the exception and print an appropriate message.\n",
    "\n",
    "### Assignment 14: Class with Context Manager\n",
    "\n",
    "Create a class named `FileManager` that implements the context manager protocol to open and close a file. Use this class to read the contents of a file.\n",
    "\n",
    "### Assignment 15: Chaining Methods\n",
    "\n",
    "Create a class named `Calculator` with methods to add, subtract, multiply, and divide. Each method should return the object itself to allow method chaining. Create an object and chain multiple method calls."
   ]
  },
  {
   "cell_type": "code",
   "execution_count": 4,
   "metadata": {},
   "outputs": [
    {
     "name": "stdout",
     "output_type": "stream",
     "text": [
      "Car make : Truck\n",
      "Car model : Loader\n",
      "Car year : 1991\n"
     ]
    }
   ],
   "source": [
    "# Create a class named `Car` with attributes `make`, `model`, and `year`. Create an object of the class and print its attributes.\n",
    "\n",
    "class Car:\n",
    "\n",
    "    def __init__(self, make, model, year):\n",
    "        self.make= make\n",
    "        self.model= model\n",
    "        self.year=year\n",
    "    \n",
    "\n",
    "car1= Car(\"Truck\",'Loader',1991)\n",
    "\n",
    "print(f\"Car make : {car1.make}\")\n",
    "print(f\"Car model : {car1.model}\")\n",
    "print(f\"Car year : {car1.year}\")"
   ]
  },
  {
   "cell_type": "code",
   "execution_count": 5,
   "id": "a35bfc06",
   "metadata": {},
   "outputs": [
    {
     "name": "stdout",
     "output_type": "stream",
     "text": [
      "Truck Loader 1991 engine started\n"
     ]
    }
   ],
   "source": [
    "#Add a method named `start_engine` to the `Car` class that prints a message when the engine starts. Create an object of the class and call the method.\n",
    "\n",
    "class Car:\n",
    "\n",
    "    def __init__(self, make, model, year):\n",
    "        self.make= make\n",
    "        self.model= model\n",
    "        self.year=year\n",
    "\n",
    "    def start_engine(self):\n",
    "        print(f\"{self.make} {self.model} {self.year} engine started\")\n",
    "\n",
    "car1= Car(\"Truck\",'Loader',1991)\n",
    "car1.start_engine();\n",
    "\n",
    "\n",
    "\n"
   ]
  },
  {
   "cell_type": "code",
   "execution_count": 6,
   "id": "32758646",
   "metadata": {},
   "outputs": [
    {
     "name": "stdout",
     "output_type": "stream",
     "text": [
      "Priya 23\n"
     ]
    }
   ],
   "source": [
    "#Create a class named `Student` with attributes `name` and `age`. Use a constructor to initialize these attributes. Create an object of the class and print its attributes.\n",
    "\n",
    "\n",
    "class Student :\n",
    "    def __init__(self, name,age):\n",
    "        self.age=age\n",
    "        self.name= name\n",
    "    \n",
    "std1= Student(23,\"Priya\")\n",
    "print(std1.age, std1.name)"
   ]
  },
  {
   "cell_type": "code",
   "execution_count": null,
   "id": "9f2bfe5d",
   "metadata": {},
   "outputs": [],
   "source": [
    "#Create a class named `BankAccount` with private attributes `account_number` and `balance`. Add methods to deposit and withdraw money, and to check the balance. Create an object of the class and perform some operations.\n",
    "\n",
    "\n",
    "class BankAccount:\n",
    "     \n",
    "    def __init__(self, _account_number, _balance):\n",
    "        self._account_number = _account_number\n",
    "        self._balance = _balance\n",
    "\n",
    "    def deposite(self, amount):\n",
    "        self._balance = self._balance + amount\n",
    "\n",
    "    def withdraw(self, amount):\n",
    "        if amount<self._balance:\n",
    "            self._balance = self._balance - amount\n",
    "\n",
    "    def check_balance(self):\n",
    "        return self._balance\n",
    "    \n",
    "\n",
    "# Create an instance of BankAccount\n",
    "account = BankAccount(\"123456789\", 0)\n",
    "\n",
    "account.deposite(10)\n",
    "\n",
    "print(f\"Account balance before withdraw is {account.check_balance()}\")\n",
    "\n",
    "account.withdraw(5)\n",
    "\n",
    "print(f\"Account balance after withdraw is {account.check_balance()}\")\n",
    "\n"
   ]
  },
  {
   "cell_type": "code",
   "execution_count": 8,
   "id": "c382e8de",
   "metadata": {},
   "outputs": [
    {
     "name": "stdout",
     "output_type": "stream",
     "text": [
      "Employee attributes are 23, Piyush, 282828\n"
     ]
    }
   ],
   "source": [
    "#Create a base class named `Person` with attributes `name` and `age`. Create a derived class named `Employee` that inherits from `Person` and adds an attribute `employee_id`. Create an object of the derived class and print its attributes.\n",
    "\n",
    "class Person:\n",
    "\n",
    "    def __init__(self,name,age):\n",
    "        self.name=name\n",
    "        self.age=age\n",
    "    \n",
    "\n",
    "class Employee(Person):\n",
    "\n",
    "    def __init__(self, name, age, employee_id):\n",
    "        super().__init__(name, age)\n",
    "        self.employee_id = employee_id\n",
    "\n",
    "emp1 = Employee(\"Piyush\", 23, 282828)\n",
    "\n",
    "print(f\"Employee attributes are {emp1.age}, {emp1.name}, {emp1.employee_id}\")"
   ]
  },
  {
   "cell_type": "code",
   "execution_count": 11,
   "id": "e39b5472",
   "metadata": {},
   "outputs": [
    {
     "name": "stdout",
     "output_type": "stream",
     "text": [
      "Enter the employee name Rahul, Enter the age 30 and Enter the Employee Id 28882\n"
     ]
    }
   ],
   "source": [
    "#In the `Employee` class, override the `__str__` method to return a string representation of the object. Create an object of the class and print it.\n",
    "\n",
    "class Employee(Person):\n",
    "\n",
    "    def __init__(self, name, age, employee_id):\n",
    "        super().__init__(name, age)\n",
    "        self.employee_id = employee_id\n",
    "\n",
    "    def __str__(self):\n",
    "        return f\"Enter the employee name {self.name}, Enter the age {self.age} and Enter the Employee Id {self.employee_id}\"\n",
    "\n",
    "employee = Employee(\"Rahul\",30,28882)\n",
    "\n",
    "print(employee)\n",
    "\n"
   ]
  },
  {
   "cell_type": "code",
   "execution_count": null,
   "id": "1bbdd56c",
   "metadata": {},
   "outputs": [
    {
     "name": "stdout",
     "output_type": "stream",
     "text": [
      "Stree1, City1,84848 \n"
     ]
    }
   ],
   "source": [
    "#Create a class named `Address` with attributes `street`, `city`, and `zipcode`. Create a class named `Person` that has an `Address` object as an attribute. Create an object of the `Person` class and print its address.\n",
    "\n",
    "class Address:\n",
    "    def __init__(self,street,city,zipcode):\n",
    "        self.street=street\n",
    "        self.city=city\n",
    "        self.zipcode = zipcode\n",
    "    \n",
    "\n",
    "class Person:\n",
    "    def __init__(self, address):\n",
    "        self.address = address\n",
    "\n",
    "\n",
    "\n",
    "addr1 = Address(\"Stree1\",\"City1\", \"84848\")\n",
    "\n",
    "person1= Person(addr1)\n",
    "\n",
    "print(f\"{person1.address.street}, {person1.address.city},{person1.address.zipcode} \")\n"
   ]
  },
  {
   "cell_type": "code",
   "execution_count": 28,
   "id": "be0976de",
   "metadata": {},
   "outputs": [
    {
     "name": "stdout",
     "output_type": "stream",
     "text": [
      "<__main__.Counter object at 0x000002C1793FBB90> <__main__.Counter object at 0x000002C178853E30> 2\n"
     ]
    }
   ],
   "source": [
    "#Create a class named `Counter` with a class variable `count`. Each time an object is created, increment the count. Add a method to get the current count. Create multiple objects and print the count.\n",
    "\n",
    "class Counter:\n",
    "    count=0\n",
    "\n",
    "    def __init__(self):\n",
    "        Counter.count += 1\n",
    "\n",
    "\n",
    "print(Counter(),Counter(), Counter.count)\n",
    "        \n",
    "\n"
   ]
  },
  {
   "cell_type": "code",
   "execution_count": 38,
   "id": "8bd06553",
   "metadata": {},
   "outputs": [
    {
     "name": "stdout",
     "output_type": "stream",
     "text": [
      "10.0\n"
     ]
    }
   ],
   "source": [
    "#Create a class named `MathOperations` with a static method to calculate the square root of a number. Call the static method without creating an object.\n",
    "\n",
    "\n",
    "import math\n",
    "\n",
    "class MathOperations:      \n",
    "    @staticmethod\n",
    "    def sqrRoot(x):\n",
    "       return math.sqrt(x)\n",
    "\n",
    "\n",
    "\n",
    "\n",
    "print(MathOperations.sqrRoot(100))\n",
    "\n"
   ]
  },
  {
   "cell_type": "code",
   "execution_count": 44,
   "id": "e7591068",
   "metadata": {},
   "outputs": [
    {
     "name": "stdout",
     "output_type": "stream",
     "text": [
      "10\n",
      "12\n"
     ]
    }
   ],
   "source": [
    "#Create a class named `Rectangle` with private attributes `length` and `width`. Use properties to get and set these attributes. Create an object of the class and test the properties.\n",
    "\n",
    "class Rectangle :\n",
    "    def __init__(self,length,width):\n",
    "        self.__length=length\n",
    "        self.__width=width\n",
    "\n",
    "    @property\n",
    "    def length(self):\n",
    "        return self.__length\n",
    "\n",
    "\n",
    "    @length.setter\n",
    "    def length(self, length):\n",
    "        self.__length=length\n",
    "\n",
    "\n",
    "    @property\n",
    "    def width(self):\n",
    "        return self.__width\n",
    "\n",
    "\n",
    "    @width.setter\n",
    "    def width(self,width):\n",
    "        self.__width=width\n",
    "\n",
    "\n",
    "rect = Rectangle(10,12)\n",
    "print(rect.length)\n",
    "print(rect.width)\n",
    "\n",
    "\n",
    "         \n"
   ]
  },
  {
   "cell_type": "code",
   "execution_count": 46,
   "id": "f746d735",
   "metadata": {},
   "outputs": [
    {
     "name": "stdout",
     "output_type": "stream",
     "text": [
      "The are of Circle is 100.48\n",
      "The are of Sqaure is 100\n"
     ]
    }
   ],
   "source": [
    "#Create an abstract base class named `Shape` with an abstract method `area`. Create derived classes `Circle` and `Square` that implement the `area` method. Create objects of the derived classes and call the `area` method.\n",
    "\n",
    "from abc import ABC, abstractmethod\n",
    "\n",
    "class Shape(ABC):\n",
    "    @abstractmethod\n",
    "    def area():\n",
    "        pass\n",
    "\n",
    "\n",
    "class Circle(Shape):\n",
    "    def __init__(self, radius):\n",
    "        self.radius = radius\n",
    "  \n",
    "    def area(self):\n",
    "        return 2*3.14*(self.radius**2)\n",
    "    \n",
    "\n",
    "class Sqaure(Shape):\n",
    "    def __init__(self, side):\n",
    "        self.side = side\n",
    "  \n",
    "    def area(self):\n",
    "        return self.side**2\n",
    "\n",
    "\n",
    "cir = Circle(4)\n",
    "sqr = Sqaure(10)\n",
    "print(f\"The are of Circle is {cir.area()}\")\n",
    "print(f\"The are of Sqaure is {sqr.area()}\")\n"
   ]
  },
  {
   "cell_type": "code",
   "execution_count": 47,
   "id": "2baa80f0",
   "metadata": {},
   "outputs": [
    {
     "name": "stdout",
     "output_type": "stream",
     "text": [
      "Vector 5, 7\n"
     ]
    }
   ],
   "source": [
    "#Create a class named `Vector` with attributes `x` and `y`. Overload the `+` operator to add two `Vector` objects. Create objects of the class and test the operator overloading.\n",
    "\n",
    "class Vector:\n",
    "    def __init__(self, x,y):\n",
    "        self.x=x\n",
    "        self.y=y\n",
    "    \n",
    "    def __add__(self,other):\n",
    "        return Vector(self.x+other.x, self.y+other.y)\n",
    "    \n",
    "    def __str__(self):\n",
    "        return f\"Vector {self.x}, {self.y}\"\n",
    "    \n",
    "\n",
    "vect1= Vector(1,2)\n",
    "vect2= Vector(4,5)\n",
    "vect3 = vect1+vect2\n",
    "print(vect3)\n",
    "\n"
   ]
  },
  {
   "cell_type": "code",
   "execution_count": 49,
   "id": "263db026",
   "metadata": {},
   "outputs": [
    {
     "name": "stdout",
     "output_type": "stream",
     "text": [
      "Insufficient balance\n"
     ]
    }
   ],
   "source": [
    "#Create a custom exception named `InsufficientBalanceError`. In the `BankAccount` class, raise this exception when a withdrawal amount is greater than the balance. Handle the exception and print an appropriate message.\n",
    "\n",
    "class InsufficientBalanceError(Exception):\n",
    "    pass \n",
    "\n",
    "class BankAccount:\n",
    "    def __init__(self,balance):\n",
    "        self.balance= balance \n",
    "    \n",
    "    def withdrawAmount(self,withdrawAmount):\n",
    "        if(withdrawAmount> self.balance):\n",
    "            raise InsufficientBalanceError (\"Insufficient balance\")\n",
    "        \n",
    "    \n",
    "bankAccount = BankAccount(100)\n",
    "\n",
    "try:\n",
    "    bankAccount.withdrawAmount(1000)\n",
    "except InsufficientBalanceError as e:\n",
    "    print(e)\n"
   ]
  },
  {
   "cell_type": "code",
   "execution_count": null,
   "id": "0e3c205e",
   "metadata": {},
   "outputs": [],
   "source": [
    "#Create a class named `FileManager` that implements the context manager protocol to open and close a file. Use this class to read the contents of a file.\n",
    "\n",
    "class FileManager:\n",
    "    def __init__(self, filename, mode):\n",
    "        self.filename = filename\n",
    "        self.mode = mode\n",
    "\n",
    "    def __enter__(self):\n",
    "        self.file = open(self.filename, self.mode)\n",
    "        return self.file\n",
    "\n",
    "    def __exit__(self, exc_type, exc_value, traceback):\n",
    "        self.file.close()\n",
    "\n",
    "\n",
    "with FileManager('sample.txt', 'r') as file:\n",
    "    content = file.read()\n",
    "    print(content)"
   ]
  },
  {
   "cell_type": "code",
   "execution_count": 51,
   "id": "5d3b532c",
   "metadata": {},
   "outputs": [
    {
     "name": "stdout",
     "output_type": "stream",
     "text": [
      "7.0\n"
     ]
    }
   ],
   "source": [
    "#Create a class named `Calculator` with methods to add, subtract, multiply, and divide. Each method should return the object itself to allow method chaining. Create an object and chain multiple method calls.\n",
    "\n",
    "class Calculator:\n",
    "    def __init__(self, value=0):\n",
    "        self.value = value\n",
    "\n",
    "    def add(self, amount):\n",
    "        self.value += amount\n",
    "        return self\n",
    "\n",
    "    def subtract(self, amount):\n",
    "        self.value -= amount\n",
    "        return self\n",
    "\n",
    "    def multiply(self, amount):\n",
    "        self.value *= amount\n",
    "        return self\n",
    "\n",
    "    def divide(self, amount):\n",
    "        if amount != 0:\n",
    "            self.value /= amount\n",
    "        else:\n",
    "            print(\"Cannot divide by zero!\")\n",
    "        return self\n",
    "\n",
    "\n",
    "calc = Calculator()\n",
    "calc.add(10).subtract(3).multiply(2).divide(2)\n",
    "print(calc.value) \n"
   ]
  }
 ],
 "metadata": {
  "kernelspec": {
   "display_name": "base",
   "language": "python",
   "name": "python3"
  },
  "language_info": {
   "codemirror_mode": {
    "name": "ipython",
    "version": 3
   },
   "file_extension": ".py",
   "mimetype": "text/x-python",
   "name": "python",
   "nbconvert_exporter": "python",
   "pygments_lexer": "ipython3",
   "version": "3.12.7"
  }
 },
 "nbformat": 4,
 "nbformat_minor": 5
}
