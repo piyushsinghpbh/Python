{
 "cells": [
  {
   "cell_type": "markdown",
   "metadata": {},
   "source": [
    "# Module 3: Data Structures Assignments\n",
    "## Lesson 3.3: Sets\n",
    "### Assignment 1: Creating and Accessing Sets\n",
    "\n",
    "Create a set with the first 10 positive integers. Print the set.\n",
    "\n",
    "### Assignment 2: Adding and Removing Elements\n",
    "\n",
    "Add the number 11 to the set created in Assignment 1. Then remove the number 1 from the set. Print the modified set.\n",
    "\n",
    "### Assignment 3: Set Operations\n",
    "\n",
    "Create two sets: one with the first 5 positive integers and another with the first 5 even integers. Perform and print the results of union, intersection, difference, and symmetric difference operations on these sets.\n",
    "\n",
    "### Assignment 4: Set Comprehensions\n",
    "\n",
    "Create a new set containing the squares of the first 10 positive integers using a set comprehension. Print the new set.\n",
    "\n",
    "### Assignment 5: Filtering Sets\n",
    "\n",
    "Create a new set containing only the even numbers from the set created in Assignment 1 using a set comprehension. Print the new set.\n",
    "\n",
    "### Assignment 6: Set Methods\n",
    "\n",
    "Create a set with duplicate elements and remove the duplicates using set methods. Print the modified set.\n",
    "\n",
    "### Assignment 7: Subsets and Supersets\n",
    "\n",
    "Create two sets: one with the first 5 positive integers and another with the first 3 positive integers. Check if the second set is a subset of the first set and if the first set is a superset of the second set. Print the results.\n",
    "\n",
    "### Assignment 8: Frozenset\n",
    "\n",
    "Create a frozenset with the first 5 positive integers. Print the frozenset.\n",
    "\n",
    "### Assignment 9: Set and List Conversion\n",
    "\n",
    "Create a set with the first 5 positive integers. Convert it to a list, append the number 6, and convert it back to a set. Print the resulting set.\n",
    "\n",
    "### Assignment 10: Set and Dictionary\n",
    "\n",
    "Create a dictionary with set keys and integer values. Print the dictionary.\n",
    "\n",
    "### Assignment 11: Iterating Over Sets\n",
    "\n",
    "Create a set and iterate over the elements, printing each element.\n",
    "\n",
    "### Assignment 12: Removing Elements from Sets\n",
    "\n",
    "Create a set and remove elements from it until it is empty. Print the set after each removal.\n",
    "\n",
    "### Assignment 13: Set Symmetric Difference Update\n",
    "\n",
    "Create two sets and update the first set with the symmetric difference of the two sets. Print the modified first set.\n",
    "\n",
    "### Assignment 14: Set Membership Testing\n",
    "\n",
    "Create a set and test if certain elements are present in the set. Print the results.\n",
    "\n",
    "### Assignment 15: Set of Tuples\n",
    "\n",
    "Create a set containing tuples, where each tuple contains two elements. Print the set."
   ]
  },
  {
   "cell_type": "code",
   "execution_count": null,
   "metadata": {},
   "outputs": [],
   "source": [
    "#Create a set with the first 10 positive integers. Print the set.\n",
    "\n",
    "set_of_integers = {i for i in range(1, 11)}\n",
    "print(\"Set of first 10 positive integers:\", set_of_integers)"
   ]
  },
  {
   "cell_type": "code",
   "execution_count": null,
   "id": "1f82cec5",
   "metadata": {},
   "outputs": [],
   "source": [
    "#Add the number 11 to the set created in Assignment 1. Then remove the number 1 from the set. Print the modified set.\n",
    "\n",
    "set_of_integers.add(11)\n",
    "set_of_integers.discard(1)  # Using discard to avoid KeyError if\n",
    "# the element is not present\n",
    "print(\"Modified Set after adding 11 and removing 1:\", set_of_integers)  "
   ]
  },
  {
   "cell_type": "code",
   "execution_count": null,
   "id": "0fa39386",
   "metadata": {},
   "outputs": [],
   "source": [
    "#Create two sets: one with the first 5 positive integers and another with the first 5 even integers. Perform and print the results of union, intersection, difference, and symmetric difference operations on these sets.\n",
    "\n",
    "set1 = {i for i in range(1, 6)}  \n",
    "set2 = {i for i in range(2, 12, 2)} \n",
    "\n",
    "print(\"Set 1 (first 5 positive integers):\", set1)\n",
    "print(\"Set 2 (first 5 even integers):\", set2)\n",
    "\n",
    "print(\"Union:\", set1.union(set2))\n",
    "print(\"Intersection:\", set1.intersection(set2))\n",
    "print(\"Difference (Set 1 - Set 2):\", set1.difference(set2))\n",
    "print(\"Difference (Set 2 - Set 1):\", set2.difference(set1))\n",
    "print(\"Symmetric Difference:\", set1.symmetric_difference(set2))\n",
    "\n"
   ]
  },
  {
   "cell_type": "code",
   "execution_count": 5,
   "id": "e6fd826c",
   "metadata": {},
   "outputs": [
    {
     "name": "stdout",
     "output_type": "stream",
     "text": [
      "Set of squares of first 10 positive integers: {64, 1, 4, 36, 100, 9, 16, 49, 81, 25}\n"
     ]
    }
   ],
   "source": [
    "#Create a new set containing the squares of the first 10 positive integers using a set comprehension. Print the new set.\n",
    "\n",
    "set_of_squares = {i**2 for i in range(1, 11)}\n",
    "print(\"Set of squares of first 10 positive integers:\", set_of_squares)"
   ]
  },
  {
   "cell_type": "code",
   "execution_count": 6,
   "id": "08d61cb0",
   "metadata": {},
   "outputs": [
    {
     "name": "stdout",
     "output_type": "stream",
     "text": [
      "Set of even numbers from the original set: {2, 4, 6, 8, 10}\n"
     ]
    }
   ],
   "source": [
    "#Create a new set containing only the even numbers from the set created in Assignment 1 using a set comprehension. Print the new set\n",
    "\n",
    "set_of_even_numbers = {i for i in set_of_integers if i % 2 == 0}\n",
    "print(\"Set of even numbers from the original set:\", set_of_even_numbers)\n"
   ]
  },
  {
   "cell_type": "code",
   "execution_count": null,
   "id": "20f0f12f",
   "metadata": {},
   "outputs": [],
   "source": [
    "#Create a set with duplicate elements and remove the duplicates using set methods. Print the modified set.\n",
    "\n",
    "set_with_duplicates = {1, 2, 3, 2, 4, 2, 5}\n",
    "\n",
    "print(\"Set with duplicates:\", set_with_duplicates)\n",
    "set_with_duplicates1 = set(set_with_duplicates1)  \n",
    "\n",
    "print(\"Set after removing duplicates:\", set_with_duplicates1)"
   ]
  },
  {
   "cell_type": "code",
   "execution_count": null,
   "id": "17faa966",
   "metadata": {},
   "outputs": [],
   "source": [
    "#Create two sets: one with the first 5 positive integers and another with the first 3 positive integers. Check if the second set is a subset of the first set and if the first set is a superset of the second set. Print the results.\n",
    "\n",
    "set1 = {i for i in range(1, 6)}\n",
    "set2 = {i for i in range(1, 4)}\n",
    "\n",
    "print(\"Set 1 (first 5 positive integers):\", set1)\n",
    "print(\"Set 2 (first 3 positive integers):\", set2)\n",
    "print(\"Is Set 2 a subset of Set 1?\", set2.issubset(set1))\n",
    "print(\"Is Set 1 a superset of Set 2?\", set1.issuperset(set2))"
   ]
  },
  {
   "cell_type": "code",
   "execution_count": null,
   "id": "49aba109",
   "metadata": {},
   "outputs": [],
   "source": [
    "#Create a frozenset with the first 5 positive integers. Print the frozenset.\n",
    "\n",
    "frozenset_of_integers = frozenset({i for i in range(1, 6)})\n",
    "print(\"Frozenset of first 5 positive integers:\", frozenset_of_integers)"
   ]
  },
  {
   "cell_type": "code",
   "execution_count": null,
   "id": "9afe610f",
   "metadata": {},
   "outputs": [],
   "source": [
    "#Create a set with the first 5 positive integers. Convert it to a list, append the number 6, and convert it back to a set. Print the resulting set.\n",
    "\n",
    "set_of_integers = {i for i in range(1, 6)}\n",
    "list_from_set = list(set_of_integers)\n",
    "list_from_set.append(6)\n",
    "set_from_list = set(list_from_set)\n",
    "print(\"Set after converting to list, appending 6, and converting back to set:\", set_from_list)\n"
   ]
  },
  {
   "cell_type": "code",
   "execution_count": null,
   "id": "d91bfb60",
   "metadata": {},
   "outputs": [],
   "source": [
    "#Create a dictionary with set keys and integer values. Print the dictionary.\n",
    "\n",
    "set_keys = {frozenset({1, 2}), frozenset({3, 4})}\n",
    "dict_with_set_keys = {key: len(key) for key in set_keys}\n",
    "print(\"Dictionary with set keys and integer values:\", dict_with_set_keys)\n",
    "   "
   ]
  },
  {
   "cell_type": "code",
   "execution_count": 23,
   "id": "03e98a47",
   "metadata": {},
   "outputs": [],
   "source": [
    "#Create a set and iterate over the elements, printing each element.\n",
    "\n",
    "for element in set_of_integers:\n",
    "    print(\"Element in set:\", element)\n",
    "    "
   ]
  },
  {
   "cell_type": "code",
   "execution_count": null,
   "id": "d625ca28",
   "metadata": {},
   "outputs": [],
   "source": [
    "#Create a set and remove elements from it until it is empty. Print the set after each removal.\n",
    "\n",
    "while set_of_integers:\n",
    "    removed_element = set_of_integers.pop()\n",
    "    print(\"Removed element:\", removed_element)   \n",
    "    print(\"Set after removal:\", set_of_integers)"
   ]
  },
  {
   "cell_type": "code",
   "execution_count": null,
   "id": "6232674e",
   "metadata": {},
   "outputs": [],
   "source": [
    "#Create two sets and update the first set with the symmetric difference of the two sets. Print the modified first set.\n",
    "\n",
    "set_a = {1, 2, 3, 4, 5}\n",
    "set_b = {4, 5, 6, 7, 8}\n",
    "\n",
    "set_a.symmetric_difference_update(set_b)\n",
    "print(\"Set A after symmetric difference update with Set B:\", set_a)"
   ]
  },
  {
   "cell_type": "code",
   "execution_count": null,
   "id": "2ae34e15",
   "metadata": {},
   "outputs": [],
   "source": [
    "#Create a set and test if certain elements are present in the set. Print the results.\n",
    "\n",
    "set_to_test = {1, 2, 3, 4, 5}\n",
    "elements_to_check = [3, 6, 1]\n",
    "\n",
    "for element in elements_to_check:\n",
    "    if element in set_to_test:\n",
    "        print(f\"Element {element} is present in the set.\")\n",
    "    else:\n",
    "        print(f\"Element {element} is not present in the set.\")"
   ]
  },
  {
   "cell_type": "code",
   "execution_count": 28,
   "id": "c67f72a8",
   "metadata": {},
   "outputs": [
    {
     "name": "stdout",
     "output_type": "stream",
     "text": [
      "Set containing tuples: {(1, 2), (3, 4), (5, 6)}\n"
     ]
    }
   ],
   "source": [
    "#Create a set containing tuples, where each tuple contains two elements. Print the set.\n",
    "\n",
    "set_of_tuples = {(1, 2), (3, 4), (5, 6)}\n",
    "print(\"Set containing tuples:\", set_of_tuples)"
   ]
  }
 ],
 "metadata": {
  "kernelspec": {
   "display_name": "base",
   "language": "python",
   "name": "python3"
  },
  "language_info": {
   "codemirror_mode": {
    "name": "ipython",
    "version": 3
   },
   "file_extension": ".py",
   "mimetype": "text/x-python",
   "name": "python",
   "nbconvert_exporter": "python",
   "pygments_lexer": "ipython3",
   "version": "3.12.7"
  }
 },
 "nbformat": 4,
 "nbformat_minor": 5
}
