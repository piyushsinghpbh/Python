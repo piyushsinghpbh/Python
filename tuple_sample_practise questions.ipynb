{
 "cells": [
  {
   "cell_type": "markdown",
   "id": "6cade624",
   "metadata": {},
   "source": [
    "# Module 3: Data Structures Assignments\n",
    "## Lesson 3.2: Tuples\n",
    "### Assignment 1: Creating and Accessing Tuples\n",
    "\n",
    "Create a tuple with the first 10 positive integers. Print the tuple.\n",
    "\n",
    "### Assignment 2: Accessing Tuple Elements\n",
    "\n",
    "Print the first, middle, and last elements of the tuple created in Assignment 1.\n",
    "\n",
    "### Assignment 3: Tuple Slicing\n",
    "\n",
    "Print the first three elements, the last three elements, and the elements from index 2 to 5 of the tuple created in Assignment 1.\n",
    "\n",
    "### Assignment 4: Nested Tuples\n",
    "\n",
    "Create a nested tuple representing a 3x3 matrix and print the matrix. Access and print the element at the second row and third column.\n",
    "\n",
    "### Assignment 5: Tuple Concatenation\n",
    "\n",
    "Concatenate two tuples: (1, 2, 3) and (4, 5, 6). Print the resulting tuple.\n",
    "\n",
    "### Assignment 6: Tuple Methods\n",
    "\n",
    "Create a tuple with duplicate elements and count the occurrences of an element. Find the index of the first occurrence of an element in the tuple.\n",
    "\n",
    "### Assignment 7: Unpacking Tuples\n",
    "\n",
    "Create a tuple with 5 elements and unpack it into 5 variables. Print the variables.\n",
    "\n",
    "### Assignment 8: Tuple Conversion\n",
    "\n",
    "Convert a list of the first 5 positive integers to a tuple. Print the tuple.\n",
    "\n",
    "### Assignment 9: Tuple of Tuples\n",
    "\n",
    "Create a tuple containing 3 tuples, each with 3 elements. Print the tuple of tuples.\n",
    "\n",
    "### Assignment 10: Tuple and List\n",
    "\n",
    "Create a tuple with the first 5 positive integers. Convert it to a list, append the number 6, and convert it back to a tuple. Print the resulting tuple.\n",
    "\n",
    "### Assignment 11: Tuple and String\n",
    "\n",
    "Create a tuple with the characters of a string. Join the tuple elements into a single string. Print the string.\n",
    "\n",
    "### Assignment 12: Tuple and Dictionary\n",
    "\n",
    "Create a dictionary with tuple keys and integer values. Print the dictionary.\n",
    "\n",
    "### Assignment 13: Nested Tuple Iteration\n",
    "\n",
    "Create a nested tuple and iterate over the elements, printing each element.\n",
    "\n",
    "### Assignment 14: Tuple and Set\n",
    "\n",
    "Create a tuple with duplicate elements. Convert it to a set to remove duplicates and print the resulting set.\n",
    "\n",
    "### Assignment 15: Tuple Functions\n",
    "\n",
    "Write functions that take a tuple and return the minimum, maximum, and sum of the elements. Print the results for a sample tuple."
   ]
  },
  {
   "cell_type": "code",
   "execution_count": 1,
   "metadata": {},
   "outputs": [
    {
     "name": "stdout",
     "output_type": "stream",
     "text": [
      "Tuple of first 10 positive integers: (1, 2, 3, 4, 5, 6, 7, 8, 9, 10)\n"
     ]
    }
   ],
   "source": [
    "#Create a tuple with the first 10 positive integers. Print the tuple.\n",
    "\n",
    "tuple_of_integers = tuple(range(1, 11))\n",
    "\n",
    "print(\"Tuple of first 10 positive integers:\", tuple_of_integers)"
   ]
  },
  {
   "cell_type": "code",
   "execution_count": 3,
   "id": "08a85381",
   "metadata": {},
   "outputs": [
    {
     "name": "stdout",
     "output_type": "stream",
     "text": [
      "First element: 1\n",
      "Middle element: 6\n",
      "Last element: 10\n"
     ]
    }
   ],
   "source": [
    "#Print the first, middle, and last elements of the tuple created in Assignment 1.\n",
    "\n",
    "first_element = tuple_of_integers[0]\n",
    "middle_element = tuple_of_integers[len(tuple_of_integers) // 2 ]\n",
    "last_element = tuple_of_integers[-1]\n",
    "\n",
    "print(\"First element:\", first_element)\n",
    "print(\"Middle element:\", middle_element)\n",
    "print(\"Last element:\", last_element)\n",
    "\n",
    "\n"
   ]
  },
  {
   "cell_type": "code",
   "execution_count": 4,
   "id": "375b9f1e",
   "metadata": {},
   "outputs": [
    {
     "name": "stdout",
     "output_type": "stream",
     "text": [
      "First three elements: (1, 2, 3)\n",
      "Last three elements: (8, 9, 10)\n",
      "Elements from index 2 to 5: (3, 4, 5, 6)\n"
     ]
    }
   ],
   "source": [
    "#Print the first three elements, the last three elements, and the elements from index 2 to 5 of the tuple created in Assignment 1.\n",
    "\n",
    "first_three_elements = tuple_of_integers[:3]\n",
    "last_three_elements = tuple_of_integers[-3:]\n",
    "elements_2_to_5 = tuple_of_integers[2:6]\n",
    "\n",
    "print(\"First three elements:\", first_three_elements)\n",
    "print(\"Last three elements:\", last_three_elements)\n",
    "print(\"Elements from index 2 to 5:\", elements_2_to_5)"
   ]
  },
  {
   "cell_type": "code",
   "execution_count": 5,
   "id": "8b8aa04f",
   "metadata": {},
   "outputs": [
    {
     "name": "stdout",
     "output_type": "stream",
     "text": [
      "Nested Tuple (3x3 Matrix):\n",
      "(1, 2, 3)\n",
      "(4, 5, 6)\n",
      "(7, 8, 9)\n",
      "Element at second row and third column: 6\n"
     ]
    }
   ],
   "source": [
    "#Create a nested tuple representing a 3x3 matrix and print the matrix. Access and print the element at the second row and third column.\n",
    "\n",
    "nested_tuple = ((1, 2, 3), (4, 5, 6), (7, 8, 9))\n",
    "print(\"Nested Tuple (3x3 Matrix):\")             \n",
    "for row in nested_tuple:\n",
    "    print(row)\n",
    "element_2_3 = nested_tuple[1][2]\n",
    "print(\"Element at second row and third column:\", element_2_3)"
   ]
  },
  {
   "cell_type": "code",
   "execution_count": 6,
   "id": "a97d6192",
   "metadata": {},
   "outputs": [
    {
     "name": "stdout",
     "output_type": "stream",
     "text": [
      "Concatenated Tuple: (1, 2, 3, 4, 5, 6)\n"
     ]
    }
   ],
   "source": [
    "#Concatenate two tuples: (1, 2, 3) and (4, 5, 6). Print the resulting tuple.\n",
    "\n",
    "tuple1 = (1, 2, 3)\n",
    "tuple2 = (4, 5, 6)\n",
    "concatenated_tuple = tuple1 + tuple2\n",
    "print(\"Concatenated Tuple:\", concatenated_tuple)"
   ]
  },
  {
   "cell_type": "code",
   "execution_count": 7,
   "id": "20001dcb",
   "metadata": {},
   "outputs": [
    {
     "name": "stdout",
     "output_type": "stream",
     "text": [
      "Count of 2: 3\n",
      "Index of first occurrence of 2: 1\n"
     ]
    }
   ],
   "source": [
    "#Create a tuple with duplicate elements and count the occurrences of an element. Find the index of the first occurrence of an element in the tuple.\n",
    "\n",
    "\n",
    "tuple_with_duplicates = (1, 2, 3, 2, 4, 2, 5)\n",
    "element_to_count = 2\n",
    "count = tuple_with_duplicates.count(element_to_count)   \n",
    "\n",
    "index_of_first_occurrence = tuple_with_duplicates.index(element_to_count)\n",
    "\n",
    "print(f\"Count of {element_to_count}:\", count)\n",
    "print(f\"Index of first occurrence of {element_to_count}:\", index_of_first_occurrence)   "
   ]
  },
  {
   "cell_type": "code",
   "execution_count": 8,
   "id": "f12b215f",
   "metadata": {},
   "outputs": [
    {
     "name": "stdout",
     "output_type": "stream",
     "text": [
      "Unpacked Variables:\n",
      "a: 10\n",
      "b: 20\n",
      "c: 30\n",
      "d: 40\n",
      "e: 50\n"
     ]
    }
   ],
   "source": [
    "#Create a tuple with 5 elements and unpack it into 5 variables. Print the variables.\n",
    "\n",
    "tuple_to_unpack = (10, 20, 30, 40, 50)\n",
    "a, b, c, d, e = tuple_to_unpack\n",
    "print(\"Unpacked Variables:\")\n",
    "print(\"a:\", a)\n",
    "print(\"b:\", b)      \n",
    "print(\"c:\", c)\n",
    "print(\"d:\", d)\n",
    "print(\"e:\", e)\n",
    "\n"
   ]
  },
  {
   "cell_type": "code",
   "execution_count": 9,
   "id": "fb633713",
   "metadata": {},
   "outputs": [
    {
     "name": "stdout",
     "output_type": "stream",
     "text": [
      "Tuple from list of first 5 positive integers: (1, 2, 3, 4, 5)\n"
     ]
    }
   ],
   "source": [
    "#Convert a list of the first 5 positive integers to a tuple. Print the tuple.\n",
    "\n",
    "list_of_integers = [1, 2, 3, 4, 5]\n",
    "tuple_from_list = tuple(list_of_integers)  \n",
    "print(\"Tuple from list of first 5 positive integers:\", tuple_from_list)\n",
    "    "
   ]
  },
  {
   "cell_type": "code",
   "execution_count": 10,
   "id": "8fa5d5fe",
   "metadata": {},
   "outputs": [
    {
     "name": "stdout",
     "output_type": "stream",
     "text": [
      "Tuple of Tuples:\n",
      "(1, 2, 3)\n",
      "(4, 5, 6)\n",
      "(7, 8, 9)\n"
     ]
    }
   ],
   "source": [
    "#Create a tuple containing 3 tuples, each with 3 elements. Print the tuple of tuples.\n",
    "\n",
    "tuple_of_tuples = ((1, 2, 3), (4, 5, 6), (7, 8, 9))\n",
    "print(\"Tuple of Tuples:\")\n",
    "\n",
    "for t in tuple_of_tuples:\n",
    "    print(t)\n",
    "    "
   ]
  },
  {
   "cell_type": "code",
   "execution_count": 11,
   "id": "2f147bac",
   "metadata": {},
   "outputs": [
    {
     "name": "stdout",
     "output_type": "stream",
     "text": [
      "Resulting Tuple after appending 6: (1, 2, 3, 4, 5, 6)\n"
     ]
    }
   ],
   "source": [
    "#Create a tuple with the first 5 positive integers. Convert it to a list, append the number 6, and convert it back to a tuple. Print the resulting tuple.\n",
    "tuple_of_integers = (1, 2, 3, 4, 5)\n",
    "list_from_tuple = list(tuple_of_integers)\n",
    "list_from_tuple.append(6)\n",
    "resulting_tuple = tuple(list_from_tuple)\n",
    "print(\"Resulting Tuple after appending 6:\", resulting_tuple)\n",
    "\n",
    "    "
   ]
  },
  {
   "cell_type": "code",
   "execution_count": 12,
   "id": "c717a649",
   "metadata": {},
   "outputs": [
    {
     "name": "stdout",
     "output_type": "stream",
     "text": [
      "Joined String from Tuple: Hello\n"
     ]
    }
   ],
   "source": [
    "#Create a tuple with the characters of a string. Join the tuple elements into a single string. Print the string.\n",
    "\n",
    "string_to_tuple = \"Hello\"\n",
    "tuple_of_characters = tuple(string_to_tuple)\n",
    "joined_string = ''.join(tuple_of_characters)\n",
    "print(\"Joined String from Tuple:\", joined_string)"
   ]
  },
  {
   "cell_type": "code",
   "execution_count": 13,
   "id": "53e734f1",
   "metadata": {},
   "outputs": [
    {
     "name": "stdout",
     "output_type": "stream",
     "text": [
      "Dictionary with Tuple Keys and Integer Values: {(1, 2): 10, (3, 4): 20}\n",
      "Value for key (1, 2): 10\n",
      "Value for key (3, 4): 20\n"
     ]
    }
   ],
   "source": [
    "#Create a dictionary with tuple keys and integer values. Print the dictionary.\n",
    "\n",
    "tuple_key1 = (1, 2)\n",
    "tuple_key2 = (3, 4) \n",
    "dictionary_with_tuple_keys = {\n",
    "    tuple_key1: 10,\n",
    "    tuple_key2: 20\n",
    "}       \n",
    "\n",
    "print(\"Dictionary with Tuple Keys and Integer Values:\", dictionary_with_tuple_keys)\n",
    "print(\"Value for key (1, 2):\", dictionary_with_tuple_keys[tuple_key1])\n",
    "print(\"Value for key (3, 4):\", dictionary_with_tuple_keys[tuple_key2])"
   ]
  },
  {
   "cell_type": "code",
   "execution_count": 14,
   "id": "997cf8a9",
   "metadata": {},
   "outputs": [
    {
     "name": "stdout",
     "output_type": "stream",
     "text": [
      "Iterating over Nested Tuple:\n",
      "1 2 3 \n",
      "4 5 6 \n",
      "7 8 9 \n"
     ]
    }
   ],
   "source": [
    "#Create a nested tuple and iterate over the elements, printing each element.\n",
    "\n",
    "nested_tuple = ((1, 2, 3), (4, 5, 6), (7, 8, 9))\n",
    "print(\"Iterating over Nested Tuple:\")\n",
    "for outer in nested_tuple:\n",
    "    for inner in outer:\n",
    "        print(inner, end=' ')\n",
    "    print()  # New line after each inner tuple\n"
   ]
  },
  {
   "cell_type": "code",
   "execution_count": 15,
   "id": "6cedb2ea",
   "metadata": {},
   "outputs": [
    {
     "name": "stdout",
     "output_type": "stream",
     "text": [
      "Set from Tuple (duplicates removed): {1, 2, 3, 4, 5}\n",
      "Length of the set: 5\n"
     ]
    }
   ],
   "source": [
    "#Create a tuple with duplicate elements. Convert it to a set to remove duplicates and print the resulting set.\n",
    "\n",
    "tuple_with_duplicates = (1, 2, 3, 2, 4, 2, 5)\n",
    "set_from_tuple = set(tuple_with_duplicates)\n",
    "\n",
    "print(\"Set from Tuple (duplicates removed):\", set_from_tuple)\n",
    "print(\"Length of the set:\", len(set_from_tuple))"
   ]
  },
  {
   "cell_type": "code",
   "execution_count": 16,
   "id": "d0cbc7d0",
   "metadata": {},
   "outputs": [
    {
     "name": "stdout",
     "output_type": "stream",
     "text": [
      "Sample Tuple: (10, 20, 30, 40, 50)\n",
      "Minimum element: 10\n",
      "Maximum element: 50\n",
      "Sum of elements: 150\n"
     ]
    }
   ],
   "source": [
    "#Write functions that take a tuple and return the minimum, maximum, and sum of the elements. Print the results for a sample tuple.\n",
    "\n",
    "def tuple_min(t):\n",
    "    return min(t)   \n",
    "def tuple_max(t):\n",
    "    return max(t)\n",
    "def tuple_sum(t):\n",
    "    return sum(t)   \n",
    "sample_tuple = (10, 20, 30, 40, 50)\n",
    "print(\"Sample Tuple:\", sample_tuple)    \n",
    "print(\"Minimum element:\", tuple_min(sample_tuple))\n",
    "print(\"Maximum element:\", tuple_max(sample_tuple))\n",
    "print(\"Sum of elements:\", tuple_sum(sample_tuple))"
   ]
  }
 ],
 "metadata": {
  "kernelspec": {
   "display_name": "base",
   "language": "python",
   "name": "python3"
  },
  "language_info": {
   "codemirror_mode": {
    "name": "ipython",
    "version": 3
   },
   "file_extension": ".py",
   "mimetype": "text/x-python",
   "name": "python",
   "nbconvert_exporter": "python",
   "pygments_lexer": "ipython3",
   "version": "3.12.7"
  }
 },
 "nbformat": 4,
 "nbformat_minor": 5
}
