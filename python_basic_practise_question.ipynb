{
 "cells": [
  {
   "cell_type": "markdown",
   "metadata": {},
   "source": [
    "# Lesson 1.2: Python Basics\n",
    "## Topics Covered:\n",
    "- Syntax and Semantics\n",
    "- Variables and Data Types\n",
    "- Basic Operators (Arithmetic, Comparison, Logical)\n"
   ]
  },
  {
   "cell_type": "markdown",
   "metadata": {},
   "source": [
    "## 1. Syntax and Semantics\n",
    "\n",
    "**Question 1:** Write a Python program to print \"Hello, World!\"."
   ]
  },
  {
   "cell_type": "code",
   "execution_count": 1,
   "metadata": {},
   "outputs": [
    {
     "name": "stdout",
     "output_type": "stream",
     "text": [
      "Hello, World\n"
     ]
    }
   ],
   "source": [
    "\n",
    "print(\"Hello, World\")"
   ]
  },
  {
   "cell_type": "markdown",
   "metadata": {},
   "source": [
    "**Question 2:** Write a Python program that takes a user input and prints it."
   ]
  },
  {
   "cell_type": "code",
   "execution_count": 21,
   "metadata": {},
   "outputs": [
    {
     "name": "stdout",
     "output_type": "stream",
     "text": [
      "You entered: 20\n",
      "This is a simple Python script.\n"
     ]
    }
   ],
   "source": [
    "input_var= input(\"Enter your input\")\n",
    "print(f\"You entered: {input_var}\")\n",
    "print(\"This is a simple Python script.\")"
   ]
  },
  {
   "cell_type": "markdown",
   "metadata": {},
   "source": [
    "**Question 3:** Write a Python program to check if a number is positive, negative, or zero."
   ]
  },
  {
   "cell_type": "code",
   "execution_count": 26,
   "metadata": {},
   "outputs": [
    {
     "name": "stdout",
     "output_type": "stream",
     "text": [
      "The number is zero\n"
     ]
    }
   ],
   "source": [
    "# Your code here\n",
    "\n",
    "input_number = int(input(\"Enter your number: \"))\n",
    "if(input_number> 0):\n",
    "    print(\"The number is positive\")\n",
    "elif(input_number < 0):\n",
    "    print(\"The number is negative\")\n",
    "else:\n",
    "    print(\"The number is zero\")"
   ]
  },
  {
   "cell_type": "markdown",
   "metadata": {},
   "source": [
    "**Question 4:** Write a Python program to find the largest of three numbers."
   ]
  },
  {
   "cell_type": "code",
   "execution_count": 30,
   "metadata": {},
   "outputs": [
    {
     "name": "stdout",
     "output_type": "stream",
     "text": [
      "The largest number is:30\n"
     ]
    }
   ],
   "source": [
    "# Your code here\n",
    "input_var1= int(input(\"Enter your first number\"))\n",
    "input_var2= int(input(\"Enter your second number\"))\n",
    "input_var3= int(input(\"Enter your third number \"))\n",
    "if(input_var1 > input_var2 and input_var1 > input_var3):\n",
    "    print(f\"The largest number is:{input_var1}\")\n",
    "elif(input_var2 > input_var1 and input_var2 > input_var3):\n",
    "    print(f\"The largest number is:{input_var2}\")    \n",
    "elif(input_var3 > input_var1 and input_var3 > input_var2):\n",
    "    print(f\"The largest number is:{input_var3}\")\n"
   ]
  },
  {
   "cell_type": "markdown",
   "metadata": {},
   "source": [
    "**Question 5:** Write a Python program to calculate the factorial of a number."
   ]
  },
  {
   "cell_type": "code",
   "execution_count": 46,
   "metadata": {},
   "outputs": [
    {
     "name": "stdout",
     "output_type": "stream",
     "text": [
      "You entered: 8\n",
      "Factorial of 8 is 40320\n"
     ]
    }
   ],
   "source": [
    "# Your code here\n",
    "input_var= int(input(\"Enter your input\"))\n",
    "print(f\"You entered: {input_var}\")\n",
    "\n",
    "def factorial_number(n):\n",
    "    if( n == 0):\n",
    "        return 0\n",
    "    elif( n == 1):\n",
    "        return 1\n",
    "    else:\n",
    "        return n * factorial_number(n-1)\n",
    "\n",
    "print(f\"Factorial of {input_var} is {factorial_number(input_var)}\")\n"
   ]
  },
  {
   "cell_type": "markdown",
   "metadata": {},
   "source": [
    "## 2. Variables and Data Types\n",
    "\n",
    "**Question 6:** Create variables of different data types: integer, float, string, and boolean. Print their values and types."
   ]
  },
  {
   "cell_type": "code",
   "execution_count": 47,
   "metadata": {},
   "outputs": [
    {
     "name": "stdout",
     "output_type": "stream",
     "text": [
      "Integer: 1, Type: <class 'int'>\n",
      "Float: 1.0, Type: <class 'float'>\n",
      "String: 1, Type: <class 'str'>\n",
      "Boolean: True, Type: <class 'bool'>\n"
     ]
    }
   ],
   "source": [
    "# Your code here\n",
    "int_var = 1\n",
    "float_var= 1.0\n",
    "str_var = \"1\"\n",
    "bool_var = True\n",
    "print(f\"Integer: {int_var}, Type: {type(int_var)}\")\n",
    "print(f\"Float: {float_var}, Type: {type(float_var)}\")       \n",
    "print(f\"String: {str_var}, Type: {type(str_var)}\")\n",
    "print(f\"Boolean: {bool_var}, Type: {type(bool_var)}\")\n"
   ]
  },
  {
   "cell_type": "markdown",
   "metadata": {},
   "source": [
    "**Question 7:** Write a Python program to swap the values of two variables."
   ]
  },
  {
   "cell_type": "code",
   "execution_count": 48,
   "metadata": {},
   "outputs": [
    {
     "name": "stdout",
     "output_type": "stream",
     "text": [
      "After swapping: First variable: 20, Second variable: 10\n"
     ]
    }
   ],
   "source": [
    "# Your code here\n",
    "input_var_one=int(input(\"Enter your input\"))\n",
    "input_var_two=int(input(\"Enter your input\"))\n",
    "\n",
    "temp_var = input_var_one\n",
    "input_var_one= input_var_two    \n",
    "input_var_two= temp_var\n",
    "print(f\"After swapping: First variable: {input_var_one}, Second variable: {input_var_two}\")"
   ]
  },
  {
   "cell_type": "markdown",
   "metadata": {},
   "source": [
    "**Question 8:** Write a Python program to convert Celsius to Fahrenheit."
   ]
  },
  {
   "cell_type": "code",
   "execution_count": 54,
   "metadata": {},
   "outputs": [
    {
     "name": "stdout",
     "output_type": "stream",
     "text": [
      "Celsius: 20\n",
      "Fahrenheit: 68.0\n"
     ]
    }
   ],
   "source": [
    "# Your code here\n",
    "Celsius= int(input(\"Enter your input\"))\n",
    "print(f\"Celsius: {Celsius}\")\n",
    "Fahrenheit = (Celsius * 1.8) + 32\n",
    "print(f\"Fahrenheit: {Fahrenheit}\")\n"
   ]
  },
  {
   "cell_type": "markdown",
   "metadata": {},
   "source": [
    "**Question 9:** Write a Python program to concatenate two strings."
   ]
  },
  {
   "cell_type": "code",
   "execution_count": 57,
   "metadata": {},
   "outputs": [
    {
     "name": "stdout",
     "output_type": "stream",
     "text": [
      "First string: hi mate  how are you\n"
     ]
    }
   ],
   "source": [
    "# Your code here\n",
    "input_str_one= input(\"Enter your first string\")\n",
    "input_str_two= input(\"Enter your Second string\")\n",
    "\n",
    "print(f\"First string: {input_str_one +\" \" +input_str_two}\")\n"
   ]
  },
  {
   "cell_type": "markdown",
   "metadata": {},
   "source": [
    "**Question 10:** Write a Python program to check if a variable is of a specific data type."
   ]
  },
  {
   "cell_type": "code",
   "execution_count": 60,
   "metadata": {},
   "outputs": [
    {
     "name": "stdout",
     "output_type": "stream",
     "text": [
      "false is not a float\n"
     ]
    }
   ],
   "source": [
    "# Your code here\n",
    "var = \"false\"\n",
    "if isinstance(var, float):\n",
    "    print(f\"{var} is a float\")\n",
    "else:\n",
    "    print(f\"{var} is not a float\")\n"
   ]
  },
  {
   "cell_type": "markdown",
   "metadata": {},
   "source": [
    "## 3. Basic Operators (Arithmetic, Comparison, Logical)\n",
    "\n",
    "**Question 11:** Write a Python program to perform arithmetic operations: addition, subtraction, multiplication, and division."
   ]
  },
  {
   "cell_type": "code",
   "execution_count": 62,
   "metadata": {},
   "outputs": [
    {
     "name": "stdout",
     "output_type": "stream",
     "text": [
      "First variable: 10, Second variable: 20, addition: 30\n",
      "First variable: 10, Second variable: 20, addition: -10\n",
      "First variable: 10, Second variable: 20, addition: 200\n",
      "First variable: 10, Second variable: 20, addition: 0.5\n"
     ]
    }
   ],
   "source": [
    "# Your code here\n",
    "input_var_one= int(input(\"Enter your input one\"))\n",
    "input_var_two= int(input(\"Enter your input two\"))\n",
    "\n",
    "\n",
    "print(f\"First variable: {input_var_one}, Second variable: {input_var_two}, addition: {input_var_one + input_var_two}\")\n",
    "print(f\"First variable: {input_var_one}, Second variable: {input_var_two}, addition: {input_var_one - input_var_two}\")\n",
    "print(f\"First variable: {input_var_one}, Second variable: {input_var_two}, addition: {input_var_one * input_var_two}\")\n",
    "print(f\"First variable: {input_var_one}, Second variable: {input_var_two}, addition: {input_var_one / input_var_two}\")\n"
   ]
  },
  {
   "cell_type": "markdown",
   "metadata": {},
   "source": [
    "**Question 12:** Write a Python program to demonstrate comparison operators: equal to, not equal to, greater than, less than."
   ]
  },
  {
   "cell_type": "code",
   "execution_count": 74,
   "metadata": {},
   "outputs": [
    {
     "name": "stdout",
     "output_type": "stream",
     "text": [
      "First variable: 0, Second variable: 2, first variable is greater than second: False\n",
      "First variable: 0, Second variable: 2, second variable is greater than first: True\n",
      "First variable: 0, Second variable: 2, first variable is not equal to second: True\n",
      "First variable: 0, Second variable: 2, first variable is equal to second: False\n"
     ]
    }
   ],
   "source": [
    "# Your code here\n",
    "input_var_one= int(input(\"Enter your input one\"))\n",
    "input_var_two= int(input(\"Enter your input two\"))\n",
    "\n",
    "print(f\"First variable: {input_var_one}, Second variable: {input_var_two}, first variable is greater than second: {input_var_one > input_var_two}\")\n",
    "print(f\"First variable: {input_var_one}, Second variable: {input_var_two}, second variable is greater than first: {input_var_one < input_var_two}\")\n",
    "print(f\"First variable: {input_var_one}, Second variable: {input_var_two}, first variable is not equal to second: {input_var_one != input_var_two}\")\n",
    "print(f\"First variable: {input_var_one}, Second variable: {input_var_two}, first variable is equal to second: {input_var_one == input_var_two}\")"
   ]
  },
  {
   "cell_type": "markdown",
   "metadata": {},
   "source": [
    "**Question 13:** Write a Python program to demonstrate logical operators: and, or, not."
   ]
  },
  {
   "cell_type": "code",
   "execution_count": 73,
   "metadata": {},
   "outputs": [
    {
     "name": "stdout",
     "output_type": "stream",
     "text": [
      "First variable: 1, Second variable: 0\n",
      "At least one variable is True\n"
     ]
    }
   ],
   "source": [
    "# Your code here\n",
    "input_var_one= eval(input(\"Enter your input one\"))\n",
    "input_var_two= eval(input(\"Enter your input two\"))\n",
    "print(f\"First variable: {input_var_one}, Second variable: {input_var_two}\") \n",
    "if(input_var_one and input_var_two):\n",
    "    print(\"Both variables are True\")\n",
    "elif(input_var_one or input_var_two):\n",
    "    print(\"At least one variable is True\")\n"
   ]
  },
  {
   "cell_type": "markdown",
   "metadata": {},
   "source": [
    "**Question 14:** Write a Python program to calculate the square of a number."
   ]
  },
  {
   "cell_type": "code",
   "execution_count": 77,
   "metadata": {},
   "outputs": [
    {
     "name": "stdout",
     "output_type": "stream",
     "text": [
      "You entered: 20\n",
      "Square of the input: 400\n"
     ]
    }
   ],
   "source": [
    "# Your code here\n",
    "input_var= int(input(\"Enter your input\"))\n",
    "print(f\"You entered: {input_var}\")\n",
    "print(f\"Square of the input: {input_var ** 2}\")\n"
   ]
  },
  {
   "cell_type": "markdown",
   "metadata": {},
   "source": [
    "**Question 15:** Write a Python program to check if a number is even or odd."
   ]
  },
  {
   "cell_type": "code",
   "execution_count": 82,
   "metadata": {},
   "outputs": [
    {
     "name": "stdout",
     "output_type": "stream",
     "text": [
      "You entered: 21.0\n",
      "The input is a digit: 21.0 is odd\n"
     ]
    }
   ],
   "source": [
    "# Your code here\n",
    "input_var= float(input(\"Enter your input\"))\n",
    "print(f\"You entered: {input_var}\")\n",
    "if(input_var % 2== 0):\n",
    "    print(f\"The input is a digit: {input_var} is even\")\n",
    "else:\n",
    "    print(f\"The input is a digit: {input_var} is odd\")"
   ]
  },
  {
   "cell_type": "markdown",
   "metadata": {},
   "source": [
    "**Question 16:** Write a Python program to find the sum of the first n natural numbers."
   ]
  },
  {
   "cell_type": "code",
   "execution_count": 84,
   "metadata": {},
   "outputs": [
    {
     "name": "stdout",
     "output_type": "stream",
     "text": [
      "You entered: 20\n",
      "Sum of all numbers from 1 to 0 is: 210\n"
     ]
    }
   ],
   "source": [
    "# Your code here\n",
    "input_var= int(input(\"Enter your input\"))\n",
    "print(f\"You entered: {input_var}\")\n",
    "sum_var = 0\n",
    "while(input_var > 0):\n",
    "    sum_var = sum_var+input_var\n",
    "    input_var -= 1\n",
    "print(f\"Sum of all numbers from 1 to {input_var} is: {sum_var}\")"
   ]
  },
  {
   "cell_type": "markdown",
   "metadata": {},
   "source": [
    "**Question 17:** Write a Python program to check if a year is a leap year."
   ]
  },
  {
   "cell_type": "code",
   "execution_count": 90,
   "metadata": {},
   "outputs": [
    {
     "name": "stdout",
     "output_type": "stream",
     "text": [
      "2021 is a leap year: False\n"
     ]
    }
   ],
   "source": [
    "# Your code here\n",
    "input_var= int(input(\"Enter your input\"))\n",
    "is_leap_year = False\n",
    "\n",
    "if input_var > 0:\n",
    "    if (input_var % 4 == 0 and input_var % 100 != 0) or (input_var % 400 == 0):\n",
    "        is_leap_year = True\n",
    "print(f\"{input_var} is a leap year: {is_leap_year}\")"
   ]
  },
  {
   "cell_type": "markdown",
   "metadata": {},
   "source": [
    "**Question 18:** Write a Python program to reverse a string."
   ]
  },
  {
   "cell_type": "code",
   "execution_count": 91,
   "metadata": {},
   "outputs": [
    {
     "name": "stdout",
     "output_type": "stream",
     "text": [
      "You entered: test\n",
      "Reversed string: tset\n"
     ]
    }
   ],
   "source": [
    "# Your code here\n",
    "input_var= input(\"Enter your input\")\n",
    "print(f\"You entered: {input_var}\")\n",
    "reversed_str = input_var[::-1]\n",
    "print(f\"Reversed string: {reversed_str}\")"
   ]
  },
  {
   "cell_type": "markdown",
   "metadata": {},
   "source": [
    "**Question 19:** Write a Python program to check if a string is a palindrome."
   ]
  },
  {
   "cell_type": "code",
   "execution_count": 93,
   "metadata": {},
   "outputs": [
    {
     "name": "stdout",
     "output_type": "stream",
     "text": [
      "You entered: radar\n",
      "Is the input a palindrome? True\n"
     ]
    }
   ],
   "source": [
    "# Your code here\n",
    "input_var= input(\"Enter your input\")\n",
    "print(f\"You entered: {input_var}\")\n",
    "palindrome_check = input_var == input_var[::-1]\n",
    "print(f\"Is the input a palindrome? {palindrome_check}\")"
   ]
  },
  {
   "cell_type": "markdown",
   "metadata": {},
   "source": [
    "**Question 20:** Write a Python program to sort a list of numbers in ascending order."
   ]
  },
  {
   "cell_type": "code",
   "execution_count": 95,
   "metadata": {},
   "outputs": [
    {
     "name": "stdout",
     "output_type": "stream",
     "text": [
      "Sorted list: [2, 4, 5, 6, 10]\n"
     ]
    }
   ],
   "source": [
    "# Your code here\n",
    "list_var = [10, 2, 5, 4, 6]\n",
    "list_var.sort()\n",
    "print(f\"Sorted list: {list_var}\")\n"
   ]
  }
 ],
 "metadata": {
  "kernelspec": {
   "display_name": "base",
   "language": "python",
   "name": "python3"
  },
  "language_info": {
   "codemirror_mode": {
    "name": "ipython",
    "version": 3
   },
   "file_extension": ".py",
   "mimetype": "text/x-python",
   "name": "python",
   "nbconvert_exporter": "python",
   "pygments_lexer": "ipython3",
   "version": "3.12.7"
  }
 },
 "nbformat": 4,
 "nbformat_minor": 4
}
